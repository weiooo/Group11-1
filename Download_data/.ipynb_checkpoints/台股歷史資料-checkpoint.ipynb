{
 "cells": [
  {
   "cell_type": "code",
   "execution_count": 9,
   "metadata": {},
   "outputs": [],
   "source": [
    "# NoAdjust_close price: use yf.Ticker\n",
    "import yfinance as yf\n",
    "import time\n",
    "\n",
    "# to csv\n",
    "\n",
    "i = '2887E.TW' #台股代號\n",
    "stock = yf.Ticker(i)\n",
    "stock.history(start=\"2009-12-01\", end=\"2019-12-01\").to_csv('price_'+i+'.csv')\n",
    "time.sleep(1)"
   ]
  },
  {
   "cell_type": "code",
   "execution_count": null,
   "metadata": {},
   "outputs": [],
   "source": []
  }
 ],
 "metadata": {
  "kernelspec": {
   "display_name": "Python 3",
   "language": "python",
   "name": "python3"
  },
  "language_info": {
   "codemirror_mode": {
    "name": "ipython",
    "version": 3
   },
   "file_extension": ".py",
   "mimetype": "text/x-python",
   "name": "python",
   "nbconvert_exporter": "python",
   "pygments_lexer": "ipython3",
   "version": "3.7.1"
  }
 },
 "nbformat": 4,
 "nbformat_minor": 2
}
